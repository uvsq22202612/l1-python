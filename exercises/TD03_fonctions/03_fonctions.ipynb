{
 "cells": [
  {
   "cell_type": "markdown",
   "metadata": {},
   "source": [
    "# Instructions Générales\n",
    "\n",
    "Ce TD est à faire en créant un fichier td3.py, que vous éditerez dans VSCode. \n",
    "Vous ne remplirez pas les cellules de ce notebook, mais vous les copierez au fur et à mesure \n",
    "dans votre fichier pour les compléter.\n",
    "\n",
    "Vous respecterez au mieux les règles d'écriture de code, en particulier chaque fonction devra avoir un **docstring** et des commentaires si nécessaire et les noms de variable seront illustratifs de leur usage. Vous utiliserez les outils de débogage (flake8, mypy, debugger, pythontutor ...) pour corriger vos bogues."
   ]
  },
  {
   "cell_type": "markdown",
   "metadata": {},
   "source": [
    "# Gestion du temps\n",
    "\n",
    "Nous allons créer un petit logiciel de gestion du temps et des dates.\n",
    "Pour cela nous aurons besoin de créer un certain nombre de fonctions utilitaires.\n",
    "\n",
    "Un temps a le format suivant: (jour: int, heure: int, minute: int, seconde: int).\n",
    "C'est un tuple de 4 éléments. Par exemple (4, 3, 13, 20) correspond à 4 jours, 3 heures, 13 minutes et 20 secondes.\n",
    "Si on a une variable temps = (4, 3, 13, 20), pour accéder au premier élément on fait temps\\[0\\] ce qui donne 4,\n",
    "le nombre de jours.\n",
    "\n",
    "Créer la fonction qui prend comme argument le temps et renvoie le nombre de seconde total correspondant à ce temps.\n",
    "Créer la fonction qui prend un nombre de secondes et renvoie le temps correspondant."
   ]
  },
  {
   "cell_type": "code",
   "execution_count": 5,
   "metadata": {},
   "outputs": [
    {
     "name": "stdout",
     "output_type": "stream",
     "text": [
      "<class 'tuple'>\n",
      "342094 secondes\n",
      "0 jours 1 heures 0 minutes 0 secondes\n"
     ]
    }
   ],
   "source": [
    "#temps[0] : jours, temps[1]: heures, temps[2]: minutes, temps[3]: secondes\n",
    "\n",
    "def tempsEnSeconde(temps):\n",
    "    \"\"\" Renvoie la valeur en seconde de temps donné comme jour, heure, minute, seconde.\"\"\"\n",
    "    seconde = temps[0]*86400 + temps[1]*3600 + temps[2]*60 + temps[3]\n",
    "    return seconde\n",
    "\n",
    "temps = (3,23,1,34)\n",
    "print(type(temps))\n",
    "print(tempsEnSeconde(temps), \"secondes\")\n",
    "\n",
    "def secondeEnTemps(seconde):\n",
    "    \"\"\"Renvoie le temps (jour, heure, minute, seconde) qui correspond au nombre de seconde passé en argument\"\"\"\n",
    "    temps = (seconde//86400,(seconde%86400)//3600,((seconde%3600))//60,seconde%60,)\n",
    "    return temps\n",
    "    \n",
    "temps = secondeEnTemps(3600)\n",
    "print(temps[0], \"jours\", temps[1], \"heures\", temps[2], \"minutes\", temps[3], \"secondes\")"
   ]
  },
  {
   "cell_type": "markdown",
   "metadata": {},
   "source": [
    "Créer une fonction d'affichage d'un temps `afficheTemps`. Attention, les mots jour, heure et seconde doivent être au pluriel s'il y en a plusieurs. S'il y en a zéro, ils ne doivent pas apparaître.\n",
    "`print(message, end=\"\")` permet de ne pas sauter une ligne après un print. \n",
    "Vous pouvez écrire une fonction qui affiche un mot au pluriel ou non, appelée ensuite plusieurs fois par `afficheTemps` pour simplifier votre code.\n"
   ]
  },
  {
   "cell_type": "code",
   "execution_count": 6,
   "metadata": {},
   "outputs": [
    {
     "name": "stdout",
     "output_type": "stream",
     "text": [
      " 1 jour 14 minutes 23 secondesNone\n"
     ]
    }
   ],
   "source": [
    "#fonction auxiliaire ici\n",
    "def pluriel(word, nb):\n",
    "    \"\"\"on crée une fonction qui met les mots au pluriel ou non suivant si il y en plusieurs\"\"\"\n",
    "    #jours\n",
    "    if nb > 0:\n",
    "        print(\"\", nb, word, end=\"\")\n",
    "    if nb > 1:\n",
    "        print(\"s\", end=\"\")\n",
    "\n",
    "def afficheTemps(temps):\n",
    "    pluriel(\"jour\", temps[0])\n",
    "    pluriel(\"heure\", temps[1])\n",
    "    pluriel(\"minute\", temps[2])\n",
    "    pluriel(\"seconde\", temps[3])\n",
    "    \n",
    "print(afficheTemps((1,0,14,23)))"
   ]
  },
  {
   "cell_type": "markdown",
   "metadata": {},
   "source": [
    "Ecrire une fonction qui demande à l'utilisateur de rentrer un nombre de jours, d'heures, de minutes et\n",
    "de secondes et qui renvoie un temps. Attention, si l'entrée utilisateur n'est pas correcte, par exemple 80 minutes,\n",
    "afficher un message d'erreur et s'arrêter.\n",
    "\n",
    "(Optionnel) Au lieu d'arêter le programme, demander de rentrer une nouvelle valeur, tant que \n",
    "ce n'est pas une valeur correcte."
   ]
  },
  {
   "cell_type": "code",
   "execution_count": null,
   "metadata": {},
   "outputs": [],
   "source": [
    "def demandeTemps():\n",
    "    j = -1\n",
    "    h = -1\n",
    "    m = -1\n",
    "    s = -1\n",
    "    while j < 0:\n",
    "        j = int(input(\"entrez nombre\"))\n",
    "    while (h < 0 or h >= 24):\n",
    "        h = int(input(\"entrez nombre\"))\n",
    "    while (m < 0 or m >=60):\n",
    "        m = int(input(\"entrez nombre\"))\n",
    "    while (s<0 or s>=60):\n",
    "        s = int(input(\"entrez nombre\"))\n",
    "    return (j,h,m,s)\n",
    "\n",
    "afficheTemps(demandeTemps())"
   ]
  },
  {
   "cell_type": "markdown",
   "metadata": {},
   "source": [
    "On veut être capable d'additionner deux temps. Donner une fonction qui fait ce calcul,\n",
    "en utilisant les fonctions précédentes."
   ]
  },
  {
   "cell_type": "code",
   "execution_count": 7,
   "metadata": {},
   "outputs": [
    {
     "data": {
      "text/plain": [
       "(8, 2, 1, 26)"
      ]
     },
     "execution_count": 7,
     "metadata": {},
     "output_type": "execute_result"
    }
   ],
   "source": [
    "def sommeTemps(temps1,temps2):\n",
    "    return secondeEnTemps(tempsEnSeconde(temps1) + tempsEnSeconde(temps2))\n",
    "\n",
    "sommeTemps((2,3,4,25),(5,22,57,1))"
   ]
  },
  {
   "cell_type": "markdown",
   "metadata": {},
   "source": [
    "On veut maintenant calculer un pourcentage d'un temps. Par exemple, 20% de\n",
    "2 jours et 36 minutes correspond à 9 heures, 43 minutes et 12 secondes.\n",
    "\n",
    "Implémenter la fonction `proportionTemps` puis appeler cette fonction en échangeant l'ordre des arguments mais en les nommant."
   ]
  },
  {
   "cell_type": "code",
   "execution_count": 8,
   "metadata": {},
   "outputs": [
    {
     "name": "stdout",
     "output_type": "stream",
     "text": [
      " 9.0 heures 43.0 minutes 12.0 secondes 9.0 heures 43.0 minutes 12.0 secondes"
     ]
    }
   ],
   "source": [
    "def proportionTemps(temps,proportion):\n",
    "    return secondeEnTemps(tempsEnSeconde(temps)*proportion)\n",
    "\n",
    "afficheTemps(proportionTemps((2,0,36,0),0.2))\n",
    "afficheTemps(proportionTemps(proportion = 0.2, temps = (2,0,36,0)))\n",
    "#appeler la fonction en échangeant l'ordre des arguments"
   ]
  },
  {
   "cell_type": "markdown",
   "metadata": {},
   "source": [
    "On veut maintenant afficher un temps sous forme de date, en supposant \n",
    "que le temps 0 est le 1 janvier 1970 à 00:00:00.\n",
    "\n",
    "* Implémenter une fonction `tempsEnDate`qui donne la date sous la forme (année, jour, heure, minute, seconde).\n",
    "* Implémenter la fonction `afficheDate`qui affiche la date. \n",
    "* (Optionnel) Gérer également les mois."
   ]
  },
  {
   "cell_type": "code",
   "execution_count": 9,
   "metadata": {},
   "outputs": [
    {
     "name": "stdout",
     "output_type": "stream",
     "text": [
      " 11574 jours 1 heure 46 minutes 40 secondesjour numéro 260 de l'année 2001 à 1:46:40\n"
     ]
    },
    {
     "ename": "TypeError",
     "evalue": "object of type 'int' has no len()",
     "output_type": "error",
     "traceback": [
      "\u001b[1;31m---------------------------------------------------------------------------\u001b[0m",
      "\u001b[1;31mTypeError\u001b[0m                                 Traceback (most recent call last)",
      "Cell \u001b[1;32mIn [9], line 15\u001b[0m\n\u001b[0;32m     13\u001b[0m afficheTemps(temps)\n\u001b[0;32m     14\u001b[0m afficheDate(tempsEnDate(temps))\n\u001b[1;32m---> 15\u001b[0m afficheDate()\n",
      "Cell \u001b[1;32mIn [9], line 8\u001b[0m, in \u001b[0;36mafficheDate\u001b[1;34m(date)\u001b[0m\n\u001b[0;32m      7\u001b[0m \u001b[39mdef\u001b[39;00m \u001b[39mafficheDate\u001b[39m(date \u001b[39m=\u001b[39m \u001b[39m-\u001b[39m\u001b[39m1\u001b[39m):\n\u001b[1;32m----> 8\u001b[0m     \u001b[39mif\u001b[39;00m \u001b[39mlen\u001b[39;49m(date) \u001b[39m==\u001b[39m \u001b[39m0\u001b[39m:\n\u001b[0;32m      9\u001b[0m         date \u001b[39m=\u001b[39m tempsEnDate(secondeEnTemps(\u001b[39mint\u001b[39m(time\u001b[39m.\u001b[39mtime())))\n\u001b[0;32m     10\u001b[0m     \u001b[39mprint\u001b[39m(\u001b[39m\"\u001b[39m\u001b[39mjour numéro\u001b[39m\u001b[39m\"\u001b[39m, date[\u001b[39m1\u001b[39m], \u001b[39m\"\u001b[39m\u001b[39mde l\u001b[39m\u001b[39m'\u001b[39m\u001b[39mannée\u001b[39m\u001b[39m\"\u001b[39m, date[\u001b[39m0\u001b[39m], \u001b[39m\"\u001b[39m\u001b[39mà\u001b[39m\u001b[39m\"\u001b[39m, \u001b[39mstr\u001b[39m(date[\u001b[39m2\u001b[39m]) \u001b[39m+\u001b[39m \u001b[39m\"\u001b[39m\u001b[39m:\u001b[39m\u001b[39m\"\u001b[39m \u001b[39m+\u001b[39m \u001b[39mstr\u001b[39m(date[\u001b[39m3\u001b[39m]) \u001b[39m+\u001b[39m \u001b[39m\"\u001b[39m\u001b[39m:\u001b[39m\u001b[39m\"\u001b[39m \u001b[39m+\u001b[39m \u001b[39mstr\u001b[39m(date[\u001b[39m4\u001b[39m]))\n",
      "\u001b[1;31mTypeError\u001b[0m: object of type 'int' has no len()"
     ]
    }
   ],
   "source": [
    "import time\n",
    "def tempsEnDate(temps):\n",
    "    a = 1970 + temps[0]//365\n",
    "    j = 1 + temps[0]%365\n",
    "    return (a, j, temps[1], temps[2], temps[3])\n",
    "\n",
    "def afficheDate(date = -1):\n",
    "    if len(date) == 0:\n",
    "        date = tempsEnDate(secondeEnTemps(int(time.time())))\n",
    "    print(\"jour numéro\", date[1], \"de l'année\", date[0], \"à\", str(date[2]) + \":\" + str(date[3]) + \":\" + str(date[4]))\n",
    "    \n",
    "temps = secondeEnTemps(1000000000)\n",
    "afficheTemps(temps)\n",
    "afficheDate(tempsEnDate(temps))\n",
    "afficheDate()"
   ]
  },
  {
   "cell_type": "markdown",
   "metadata": {},
   "source": [
    "Il existe des fonctions dans la librairie `time` pour la gestion du temps. En particulier, il existe\n",
    "une fonction `time` qui donne le temps écoulé depuis 1970 en secondes. \n",
    "La trouver avec la [documentation python](https://docs.python.org/fr/3/library/time.html#module-time) et la tester en utilisant `afficheDate`. \n",
    "Tester de la même manière la fonction `time.gmtime` qui réalise une tâche similaire à `tempsEnDate`.\n",
    "Que constatez vous ?"
   ]
  },
  {
   "cell_type": "code",
   "execution_count": null,
   "metadata": {},
   "outputs": [],
   "source": [
    "#tester ici les fonctions de la librairie time"
   ]
  },
  {
   "cell_type": "markdown",
   "metadata": {},
   "source": [
    "Attention, tous les 4 ans les années sont bisextiles (un jour de plus) sauf les multiples de 100 qui ne sont pas des multiples de 400.\n",
    "Donner un code qui prend un nombre de jours et affiche toutes les années bisextiles depuis le 1er janvier 1970 à 00:00:00 jusqu'à la fin de ces jours."
   ]
  },
  {
   "cell_type": "code",
   "execution_count": 10,
   "metadata": {},
   "outputs": [
    {
     "name": "stdout",
     "output_type": "stream",
     "text": [
      "l'année 1972 est bissextile\n",
      "l'année 1976 est bissextile\n",
      "l'année 1980 est bissextile\n",
      "l'année 1984 est bissextile\n",
      "l'année 1988 est bissextile\n",
      "l'année 1992 est bissextile\n",
      "l'année 1996 est bissextile\n",
      "l'année 2000 est bissextile\n",
      "l'année 2004 est bissextile\n",
      "l'année 2008 est bissextile\n",
      "l'année 2012 est bissextile\n",
      "l'année 2016 est bissextile\n",
      "l'année 2020 est bissextile\n"
     ]
    }
   ],
   "source": [
    "def est_bisextile(a):\n",
    "    return a%4 == 0 and (a%100 != 0 or a%400 == 0)\n",
    "\n",
    "def bisextile(jour):\n",
    "    a = 1970\n",
    "    while jour >= 365:\n",
    "        if est_bisextile(a):\n",
    "            print(\"l'année \" + str(a) + \" est bissextile\")\n",
    "            jour -= 366\n",
    "        else:\n",
    "            jour -= 365\n",
    "        a += 1\n",
    "    \n",
    "        \n",
    "bisextile(20000)"
   ]
  },
  {
   "cell_type": "markdown",
   "metadata": {},
   "source": [
    "Implémenter une fonction `nombreBisextile` qui calcule le nombre d'années bisextiles entre le 1er janvier 1970 et le nombre de jour donnés.\n",
    "Utilisez-la pour implémenter une fonction `tempsEnDateBisextile` qui fait la même chose que `tempsEnDate` mais en prenant en compte les années bisextiles."
   ]
  },
  {
   "cell_type": "code",
   "execution_count": 1,
   "metadata": {},
   "outputs": [
    {
     "ename": "NameError",
     "evalue": "name 'secondeEnTemps' is not defined",
     "output_type": "error",
     "traceback": [
      "\u001b[1;31m---------------------------------------------------------------------------\u001b[0m",
      "\u001b[1;31mNameError\u001b[0m                                 Traceback (most recent call last)",
      "Cell \u001b[1;32mIn [1], line 20\u001b[0m\n\u001b[0;32m     17\u001b[0m     temps_modifie \u001b[39m=\u001b[39m (jour, heures, minutes, secondes)\n\u001b[0;32m     18\u001b[0m     \u001b[39mreturn\u001b[39;00m tempsEnDateBisextile(temps_modifie)\n\u001b[1;32m---> 20\u001b[0m temps \u001b[39m=\u001b[39m secondeEnTemps(\u001b[39m1000000000\u001b[39m)\n\u001b[0;32m     21\u001b[0m afficheTemps(temps)\n\u001b[0;32m     22\u001b[0m afficheDate(tempsEnDateBisextile(temps))\n",
      "\u001b[1;31mNameError\u001b[0m: name 'secondeEnTemps' is not defined"
     ]
    }
   ],
   "source": [
    "def nombreBisextile(jour):\n",
    "    a = 1970\n",
    "    i = 0\n",
    "    while jour >= 365:\n",
    "        if est_bisextile(a):\n",
    "            print(\"l'année \" + str(a) + \" est bissextile\")\n",
    "            i += 1\n",
    "            jour -= 366\n",
    "        else:\n",
    "            jour -= 365\n",
    "        a += 1\n",
    "    return i\n",
    "\n",
    "def tempsEnDateBisextile(temps):\n",
    "    jour, heures, minutes, secondes, = temps\n",
    "    jour = jour - nombreBisextile(jour)\n",
    "    temps_modifie = (jour, heures, minutes, secondes)\n",
    "    return tempsEnDateBisextile(temps_modifie)\n",
    "   \n",
    "temps = secondeEnTemps(1000000000)\n",
    "afficheTemps(temps)\n",
    "afficheDate(tempsEnDateBisextile(temps))"
   ]
  },
  {
   "cell_type": "markdown",
   "metadata": {},
   "source": [
    "Ajouter des valeurs par défaut dans le code de `afficheDate` afin de pouvoir ommettre\n",
    "l'argument de ces fonctions. Dans ce cas là, on affichera la date actuelle en utilisant la fonction `time`."
   ]
  },
  {
   "cell_type": "markdown",
   "metadata": {},
   "source": [
    "On va maintenant inspecter notre code pour améliorer sa qualité:\n",
    "\n",
    "* Regarder tous les warnings donnés par flake8 et essayer de les régler.\n",
    "* Utiliser le debugger (F5) pour étudier le fonctionnement de votre fonction nombreBisextile.\n",
    "* Mettre les annotations de type des arguments et du retour de la fonction pour nombreBisextile et une autre fonction de votre choix. Vérifier avec mypy que tout fonctionne bien."
   ]
  },
  {
   "cell_type": "markdown",
   "metadata": {},
   "source": [
    "Donner une fonction qui vérifie la charge horaire d'un employé, donnée sous forme d'une liste de temps travaillé chaque semaine dans un mois. Il ne faut pas dépasser 48h par semaine et 140h par mois (qu'on considère ici de 4 semaines).\n",
    "\n",
    "(Optionnel) S'adapter à une liste qui peut contenir plusieurs mois."
   ]
  },
  {
   "cell_type": "code",
   "execution_count": null,
   "metadata": {},
   "outputs": [],
   "source": [
    "def verifie(liste_temps):\n",
    "    pass\n",
    "\n",
    "\n",
    "liste_temps = [[1,2,39,34],[0,1,9,4],[0,29,39,51],[0,31,13,46]]\n",
    "verifie(liste_temps)"
   ]
  }
 ],
 "metadata": {
  "kernelspec": {
   "display_name": "Python 3.9.12 ('base')",
   "language": "python",
   "name": "python3"
  },
  "language_info": {
   "codemirror_mode": {
    "name": "ipython",
    "version": 3
   },
   "file_extension": ".py",
   "mimetype": "text/x-python",
   "name": "python",
   "nbconvert_exporter": "python",
   "pygments_lexer": "ipython3",
   "version": "3.9.12"
  },
  "vscode": {
   "interpreter": {
    "hash": "77efda19133223beae4d8202f64c0ed7ef77e02bd33099328534a5c00204ca3d"
   }
  }
 },
 "nbformat": 4,
 "nbformat_minor": 4
}
